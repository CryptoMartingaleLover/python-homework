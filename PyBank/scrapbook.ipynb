{
 "cells": [
  {
   "cell_type": "code",
   "execution_count": 1,
   "id": "a8282e8d-cd3b-4c4d-9336-b0d473e99072",
   "metadata": {},
   "outputs": [],
   "source": [
    "# Import the necessary libraries for reading CSV files.\n",
    "import os\n",
    "import csv"
   ]
  },
  {
   "cell_type": "code",
   "execution_count": 2,
   "id": "330d6000-3fb9-40a1-afb3-e557487acf36",
   "metadata": {},
   "outputs": [],
   "source": [
    "#  Set the path for the CSV file.\n",
    "\n",
    "from pathlib import Path"
   ]
  },
  {
   "cell_type": "code",
   "execution_count": 3,
   "id": "2375fe30-549d-4eed-b0bd-0c8b68ae5c8a",
   "metadata": {},
   "outputs": [
    {
     "data": {
      "text/plain": [
       "WindowsPath('C:/Users/Steve Stark REALTOR/OneDrive/Documents/fintech/python-homework/PyBank')"
      ]
     },
     "execution_count": 3,
     "metadata": {},
     "output_type": "execute_result"
    }
   ],
   "source": [
    "Path.cwd()"
   ]
  },
  {
   "cell_type": "code",
   "execution_count": 4,
   "id": "90497056-0134-452f-94b0-e7d5e34aac5a",
   "metadata": {},
   "outputs": [],
   "source": [
    "budget_data_path = Path('budget_data.csv')"
   ]
  },
  {
   "cell_type": "code",
   "execution_count": 11,
   "id": "32cf9c87-3132-4a5e-baf0-ca8db092004b",
   "metadata": {},
   "outputs": [],
   "source": [
    "# Create an empty list to hold dates. Create an empty list to hold daily profit/loss.\n",
    "\n",
    "date_list = []\n",
    "pnl_list = []\n",
    "full_dict = {}"
   ]
  },
  {
   "cell_type": "code",
   "execution_count": 12,
   "id": "e87ce8ff-3602-44e6-96d1-bbb5723a1f27",
   "metadata": {},
   "outputs": [
    {
     "name": "stdout",
     "output_type": "stream",
     "text": [
      "Date: Jan-2010 - Profit/Loss: $867884\n",
      "Date: Feb-2010 - Profit/Loss: $984655\n",
      "Date: Mar-2010 - Profit/Loss: $322013\n",
      "Date: Apr-2010 - Profit/Loss: $-69417\n",
      "Date: May-2010 - Profit/Loss: $310503\n",
      "Date: Jun-2010 - Profit/Loss: $522857\n",
      "Date: Jul-2010 - Profit/Loss: $1033096\n",
      "Date: Aug-2010 - Profit/Loss: $604885\n",
      "Date: Sep-2010 - Profit/Loss: $-216386\n",
      "Date: Oct-2010 - Profit/Loss: $477532\n",
      "Date: Nov-2010 - Profit/Loss: $893810\n",
      "Date: Dec-2010 - Profit/Loss: $-80353\n",
      "Date: Jan-2011 - Profit/Loss: $779806\n",
      "Date: Feb-2011 - Profit/Loss: $-335203\n",
      "Date: Mar-2011 - Profit/Loss: $697845\n",
      "Date: Apr-2011 - Profit/Loss: $793163\n",
      "Date: May-2011 - Profit/Loss: $485070\n",
      "Date: Jun-2011 - Profit/Loss: $584122\n",
      "Date: Jul-2011 - Profit/Loss: $62729\n",
      "Date: Aug-2011 - Profit/Loss: $668179\n",
      "Date: Sep-2011 - Profit/Loss: $899906\n",
      "Date: Oct-2011 - Profit/Loss: $834719\n",
      "Date: Nov-2011 - Profit/Loss: $132003\n",
      "Date: Dec-2011 - Profit/Loss: $309978\n",
      "Date: Jan-2012 - Profit/Loss: $-755566\n",
      "Date: Feb-2012 - Profit/Loss: $1170593\n",
      "Date: Mar-2012 - Profit/Loss: $252788\n",
      "Date: Apr-2012 - Profit/Loss: $1151518\n",
      "Date: May-2012 - Profit/Loss: $817256\n",
      "Date: Jun-2012 - Profit/Loss: $570757\n",
      "Date: Jul-2012 - Profit/Loss: $506702\n",
      "Date: Aug-2012 - Profit/Loss: $-1022534\n",
      "Date: Sep-2012 - Profit/Loss: $475062\n",
      "Date: Oct-2012 - Profit/Loss: $779976\n",
      "Date: Nov-2012 - Profit/Loss: $144175\n",
      "Date: Dec-2012 - Profit/Loss: $542494\n",
      "Date: Jan-2013 - Profit/Loss: $359333\n",
      "Date: Feb-2013 - Profit/Loss: $321469\n",
      "Date: Mar-2013 - Profit/Loss: $67780\n",
      "Date: Apr-2013 - Profit/Loss: $471435\n",
      "Date: May-2013 - Profit/Loss: $565603\n",
      "Date: Jun-2013 - Profit/Loss: $872480\n",
      "Date: Jul-2013 - Profit/Loss: $789480\n",
      "Date: Aug-2013 - Profit/Loss: $999942\n",
      "Date: Sep-2013 - Profit/Loss: $-1196225\n",
      "Date: Oct-2013 - Profit/Loss: $268997\n",
      "Date: Nov-2013 - Profit/Loss: $-687986\n",
      "Date: Dec-2013 - Profit/Loss: $1150461\n",
      "Date: Jan-2014 - Profit/Loss: $682458\n",
      "Date: Feb-2014 - Profit/Loss: $617856\n",
      "Date: Mar-2014 - Profit/Loss: $824098\n",
      "Date: Apr-2014 - Profit/Loss: $581943\n",
      "Date: May-2014 - Profit/Loss: $132864\n",
      "Date: Jun-2014 - Profit/Loss: $448062\n",
      "Date: Jul-2014 - Profit/Loss: $689161\n",
      "Date: Aug-2014 - Profit/Loss: $800701\n",
      "Date: Sep-2014 - Profit/Loss: $1166643\n",
      "Date: Oct-2014 - Profit/Loss: $947333\n",
      "Date: Nov-2014 - Profit/Loss: $578668\n",
      "Date: Dec-2014 - Profit/Loss: $988505\n",
      "Date: Jan-2015 - Profit/Loss: $1139715\n",
      "Date: Feb-2015 - Profit/Loss: $1029471\n",
      "Date: Mar-2015 - Profit/Loss: $687533\n",
      "Date: Apr-2015 - Profit/Loss: $-524626\n",
      "Date: May-2015 - Profit/Loss: $158620\n",
      "Date: Jun-2015 - Profit/Loss: $87795\n",
      "Date: Jul-2015 - Profit/Loss: $423389\n",
      "Date: Aug-2015 - Profit/Loss: $840723\n",
      "Date: Sep-2015 - Profit/Loss: $568529\n",
      "Date: Oct-2015 - Profit/Loss: $332067\n",
      "Date: Nov-2015 - Profit/Loss: $989499\n",
      "Date: Dec-2015 - Profit/Loss: $778237\n",
      "Date: Jan-2016 - Profit/Loss: $650000\n",
      "Date: Feb-2016 - Profit/Loss: $-1100387\n",
      "Date: Mar-2016 - Profit/Loss: $-174946\n",
      "Date: Apr-2016 - Profit/Loss: $757143\n",
      "Date: May-2016 - Profit/Loss: $445709\n",
      "Date: Jun-2016 - Profit/Loss: $712961\n",
      "Date: Jul-2016 - Profit/Loss: $-1163797\n",
      "Date: Aug-2016 - Profit/Loss: $569899\n",
      "Date: Sep-2016 - Profit/Loss: $768450\n",
      "Date: Oct-2016 - Profit/Loss: $102685\n",
      "Date: Nov-2016 - Profit/Loss: $795914\n",
      "Date: Dec-2016 - Profit/Loss: $60988\n",
      "Date: Jan-2017 - Profit/Loss: $138230\n",
      "Date: Feb-2017 - Profit/Loss: $671099\n"
     ]
    }
   ],
   "source": [
    "# Open the CSV file.\n",
    "\n",
    "with open (budget_data_path, \"r\") as budget_data_file:\n",
    "    csv_reader = csv.reader(budget_data_file, delimiter = ',')\n",
    "    header = next(csv_reader)\n",
    "        \n",
    "    for line in csv_reader:\n",
    "        date = line[0]\n",
    "        day_to_day_profit_loss = int(line[1])\n",
    "        \n",
    "        full_dict = {date : day_to_day_profit_loss}\n",
    "        \n",
    "        \n",
    "        print(f\"Date: {date} - Profit/Loss: ${day_to_day_profit_loss}\")"
   ]
  },
  {
   "cell_type": "code",
   "execution_count": 16,
   "id": "9ad6d99e-9185-4926-baf4-58b9c8f92621",
   "metadata": {},
   "outputs": [
    {
     "name": "stdout",
     "output_type": "stream",
     "text": [
      "{'Feb-2017': 671099}\n"
     ]
    }
   ],
   "source": [
    "print(full_dict)"
   ]
  },
  {
   "cell_type": "code",
   "execution_count": null,
   "id": "297a5741-0e3c-4b99-8480-7219f465ca5a",
   "metadata": {},
   "outputs": [],
   "source": []
  },
  {
   "cell_type": "code",
   "execution_count": null,
   "id": "f269f97b-bc85-4547-8dc2-6556d65d0105",
   "metadata": {},
   "outputs": [],
   "source": []
  }
 ],
 "metadata": {
  "kernelspec": {
   "display_name": "Python 3",
   "language": "python",
   "name": "python3"
  },
  "language_info": {
   "codemirror_mode": {
    "name": "ipython",
    "version": 3
   },
   "file_extension": ".py",
   "mimetype": "text/x-python",
   "name": "python",
   "nbconvert_exporter": "python",
   "pygments_lexer": "ipython3",
   "version": "3.8.5"
  }
 },
 "nbformat": 4,
 "nbformat_minor": 5
}
