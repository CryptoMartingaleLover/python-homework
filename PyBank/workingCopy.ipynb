{
 "cells": [
  {
   "cell_type": "code",
   "execution_count": null,
   "id": "c68373a9-d939-4997-b3a4-6b31e954c28a",
   "metadata": {},
   "outputs": [],
   "source": [
    "# Playing with PyBank and trying to get it all to work/"
   ]
  },
  {
   "cell_type": "code",
   "execution_count": null,
   "id": "c1eec781-e454-41b3-a2f5-2b6a7da4dea5",
   "metadata": {},
   "outputs": [],
   "source": [
    "'''\n",
    "This code will analyze the financial records of a company. It is a very simple data set comprised of date and profit/loss \n",
    "for each date. \n",
    "\n",
    "It will calculate:\n",
    "    - The total number of months included in the dataset.\n",
    "    - The net total amount of Profit/Losses over the entire period.\n",
    "    - The average of the changes in Profit/Losses over the entire period.\n",
    "    - The greatest increase in profits (date and amount) over the entire period.\n",
    "    - The greatest decrease in losses (date and amount) over the entire period.\n",
    "    \n",
    "Target results should look similar to this:\n",
    "\n",
    "Financial Analysis\n",
    "----------------------------\n",
    "Total Months: 86\n",
    "Total: $38382578\n",
    "Average  Change: $-2315.12\n",
    "Greatest Increase in Profits: Feb-2012 ($1926159)\n",
    "Greatest Decrease in Profits: Sep-2013 ($-2196167)\n",
    "'''"
   ]
  },
  {
   "cell_type": "code",
   "execution_count": null,
   "id": "12faad5a-dc56-4dd0-a948-99bed1a574c8",
   "metadata": {},
   "outputs": [],
   "source": []
  },
  {
   "cell_type": "code",
   "execution_count": 12,
   "id": "1c203b35-4391-46b2-b62f-0e8c1ef369e3",
   "metadata": {},
   "outputs": [],
   "source": [
    "# Import the necessary libraries for reading CSV files.\n",
    "import os\n",
    "import csv"
   ]
  },
  {
   "cell_type": "code",
   "execution_count": null,
   "id": "25a8a152-3a9c-4325-a1cc-76a0223aee5f",
   "metadata": {},
   "outputs": [],
   "source": []
  },
  {
   "cell_type": "code",
   "execution_count": 13,
   "id": "2da783e5-9c9e-4174-bc1b-9f2ae0d49e6d",
   "metadata": {},
   "outputs": [],
   "source": [
    "#  Set the path for the CSV file.\n",
    "\n",
    "from pathlib import Path"
   ]
  },
  {
   "cell_type": "code",
   "execution_count": null,
   "id": "b5a7995b-b31d-4edc-8837-e9f5e3e605ee",
   "metadata": {},
   "outputs": [],
   "source": []
  },
  {
   "cell_type": "code",
   "execution_count": 14,
   "id": "366f12e1-ddbd-4a34-b6ab-7a406491bd7d",
   "metadata": {},
   "outputs": [
    {
     "data": {
      "text/plain": [
       "WindowsPath('C:/Users/Steve Stark REALTOR/OneDrive/Documents/fintech/python-homework/PyBank')"
      ]
     },
     "execution_count": 14,
     "metadata": {},
     "output_type": "execute_result"
    }
   ],
   "source": [
    "Path.cwd()"
   ]
  },
  {
   "cell_type": "code",
   "execution_count": null,
   "id": "2e96d3d6-668e-4891-801c-3706a11337a5",
   "metadata": {},
   "outputs": [],
   "source": []
  },
  {
   "cell_type": "code",
   "execution_count": 15,
   "id": "b07f6624-8a8c-4ccd-a0ac-727252937adb",
   "metadata": {},
   "outputs": [],
   "source": [
    "budget_data_path = Path('budget_data.csv')"
   ]
  },
  {
   "cell_type": "code",
   "execution_count": 16,
   "id": "9320cd1d-20a0-4719-8fcb-f4bab6bbf3e3",
   "metadata": {},
   "outputs": [],
   "source": [
    "# Create an empty list to hold dates. Create an empty list to hold daily profit/loss.\n",
    "\n",
    "date_list = []\n",
    "pnl_list = []\n",
    "full_list = []\n"
   ]
  },
  {
   "cell_type": "code",
   "execution_count": 17,
   "id": "7bbde76d-5bf5-4426-a8a5-3710fe012c2e",
   "metadata": {
    "tags": []
   },
   "outputs": [
    {
     "name": "stdout",
     "output_type": "stream",
     "text": [
      "Date: Jan-2010 - Profit/Loss: $867884\n",
      "Date: Feb-2010 - Profit/Loss: $984655\n",
      "Date: Mar-2010 - Profit/Loss: $322013\n",
      "Date: Apr-2010 - Profit/Loss: $-69417\n",
      "Date: May-2010 - Profit/Loss: $310503\n",
      "Date: Jun-2010 - Profit/Loss: $522857\n",
      "Date: Jul-2010 - Profit/Loss: $1033096\n",
      "Date: Aug-2010 - Profit/Loss: $604885\n",
      "Date: Sep-2010 - Profit/Loss: $-216386\n",
      "Date: Oct-2010 - Profit/Loss: $477532\n",
      "Date: Nov-2010 - Profit/Loss: $893810\n",
      "Date: Dec-2010 - Profit/Loss: $-80353\n",
      "Date: Jan-2011 - Profit/Loss: $779806\n",
      "Date: Feb-2011 - Profit/Loss: $-335203\n",
      "Date: Mar-2011 - Profit/Loss: $697845\n",
      "Date: Apr-2011 - Profit/Loss: $793163\n",
      "Date: May-2011 - Profit/Loss: $485070\n",
      "Date: Jun-2011 - Profit/Loss: $584122\n",
      "Date: Jul-2011 - Profit/Loss: $62729\n",
      "Date: Aug-2011 - Profit/Loss: $668179\n",
      "Date: Sep-2011 - Profit/Loss: $899906\n",
      "Date: Oct-2011 - Profit/Loss: $834719\n",
      "Date: Nov-2011 - Profit/Loss: $132003\n",
      "Date: Dec-2011 - Profit/Loss: $309978\n",
      "Date: Jan-2012 - Profit/Loss: $-755566\n",
      "Date: Feb-2012 - Profit/Loss: $1170593\n",
      "Date: Mar-2012 - Profit/Loss: $252788\n",
      "Date: Apr-2012 - Profit/Loss: $1151518\n",
      "Date: May-2012 - Profit/Loss: $817256\n",
      "Date: Jun-2012 - Profit/Loss: $570757\n",
      "Date: Jul-2012 - Profit/Loss: $506702\n",
      "Date: Aug-2012 - Profit/Loss: $-1022534\n",
      "Date: Sep-2012 - Profit/Loss: $475062\n",
      "Date: Oct-2012 - Profit/Loss: $779976\n",
      "Date: Nov-2012 - Profit/Loss: $144175\n",
      "Date: Dec-2012 - Profit/Loss: $542494\n",
      "Date: Jan-2013 - Profit/Loss: $359333\n",
      "Date: Feb-2013 - Profit/Loss: $321469\n",
      "Date: Mar-2013 - Profit/Loss: $67780\n",
      "Date: Apr-2013 - Profit/Loss: $471435\n",
      "Date: May-2013 - Profit/Loss: $565603\n",
      "Date: Jun-2013 - Profit/Loss: $872480\n",
      "Date: Jul-2013 - Profit/Loss: $789480\n",
      "Date: Aug-2013 - Profit/Loss: $999942\n",
      "Date: Sep-2013 - Profit/Loss: $-1196225\n",
      "Date: Oct-2013 - Profit/Loss: $268997\n",
      "Date: Nov-2013 - Profit/Loss: $-687986\n",
      "Date: Dec-2013 - Profit/Loss: $1150461\n",
      "Date: Jan-2014 - Profit/Loss: $682458\n",
      "Date: Feb-2014 - Profit/Loss: $617856\n",
      "Date: Mar-2014 - Profit/Loss: $824098\n",
      "Date: Apr-2014 - Profit/Loss: $581943\n",
      "Date: May-2014 - Profit/Loss: $132864\n",
      "Date: Jun-2014 - Profit/Loss: $448062\n",
      "Date: Jul-2014 - Profit/Loss: $689161\n",
      "Date: Aug-2014 - Profit/Loss: $800701\n",
      "Date: Sep-2014 - Profit/Loss: $1166643\n",
      "Date: Oct-2014 - Profit/Loss: $947333\n",
      "Date: Nov-2014 - Profit/Loss: $578668\n",
      "Date: Dec-2014 - Profit/Loss: $988505\n",
      "Date: Jan-2015 - Profit/Loss: $1139715\n",
      "Date: Feb-2015 - Profit/Loss: $1029471\n",
      "Date: Mar-2015 - Profit/Loss: $687533\n",
      "Date: Apr-2015 - Profit/Loss: $-524626\n",
      "Date: May-2015 - Profit/Loss: $158620\n",
      "Date: Jun-2015 - Profit/Loss: $87795\n",
      "Date: Jul-2015 - Profit/Loss: $423389\n",
      "Date: Aug-2015 - Profit/Loss: $840723\n",
      "Date: Sep-2015 - Profit/Loss: $568529\n",
      "Date: Oct-2015 - Profit/Loss: $332067\n",
      "Date: Nov-2015 - Profit/Loss: $989499\n",
      "Date: Dec-2015 - Profit/Loss: $778237\n",
      "Date: Jan-2016 - Profit/Loss: $650000\n",
      "Date: Feb-2016 - Profit/Loss: $-1100387\n",
      "Date: Mar-2016 - Profit/Loss: $-174946\n",
      "Date: Apr-2016 - Profit/Loss: $757143\n",
      "Date: May-2016 - Profit/Loss: $445709\n",
      "Date: Jun-2016 - Profit/Loss: $712961\n",
      "Date: Jul-2016 - Profit/Loss: $-1163797\n",
      "Date: Aug-2016 - Profit/Loss: $569899\n",
      "Date: Sep-2016 - Profit/Loss: $768450\n",
      "Date: Oct-2016 - Profit/Loss: $102685\n",
      "Date: Nov-2016 - Profit/Loss: $795914\n",
      "Date: Dec-2016 - Profit/Loss: $60988\n",
      "Date: Jan-2017 - Profit/Loss: $138230\n",
      "Date: Feb-2017 - Profit/Loss: $671099\n"
     ]
    }
   ],
   "source": [
    "# Open the CSV file.\n",
    "\n",
    "with open (budget_data_path, \"r\") as budget_data_file:\n",
    "    csv_reader = csv.reader(budget_data_file, delimiter = ',')\n",
    "    header = next(csv_reader)\n",
    "        \n",
    "    for line in csv_reader:\n",
    "        date = line[0]\n",
    "        day_to_day_profit_loss = int(line[1])\n",
    "        \n",
    "        date_list.append(date)\n",
    "        pnl_list.append(day_to_day_profit_loss)\n",
    "        \n",
    "        full_list.append(date)\n",
    "        full_list.append(day_to_day_profit_loss)\n",
    "        \n",
    "        \n",
    "        print(f\"Date: {date} - Profit/Loss: ${day_to_day_profit_loss}\")\n",
    "        "
   ]
  },
  {
   "cell_type": "code",
   "execution_count": null,
   "id": "feb4c903-eae0-4834-b5d8-205d43d5d251",
   "metadata": {},
   "outputs": [],
   "source": []
  },
  {
   "cell_type": "code",
   "execution_count": 18,
   "id": "f6cc2ec6-6c50-431f-b94e-f3597512ee16",
   "metadata": {},
   "outputs": [],
   "source": [
    "# Initialize metric variables\n",
    "\n",
    "greatest_profit = 0          # Highest daily profit.\n",
    "greatest_loss = 0            # Lowest daily loss.\n",
    "avg_change_profit_loss = 0   # Average of the sum of daily changes - alternatively the difference of 1st & last values divided by total months.\n",
    "net_profit_loss = 0          # The sum of profit line. \n",
    "count_months = 0             # Total count of months in data set."
   ]
  },
  {
   "cell_type": "code",
   "execution_count": 19,
   "id": "b1ca9ebb-4917-4fc2-8a44-d92f0fd7f225",
   "metadata": {},
   "outputs": [],
   "source": [
    "# Calculate the net_profit_loss, hightest daily profit, lowest daily loss\n",
    "for day_to_day_profit_loss in pnl_list:\n",
    "        \n",
    "    # Sum the total and count variables\n",
    "    net_profit_loss += int(day_to_day_profit_loss)\n",
    "    count_months += 1\n",
    "    \n",
    "    \n",
    "    # Logic to determine highest daily profit and lowest daily loss\n",
    "    if greatest_loss == 0:\n",
    "        greatest_loss = day_to_day_profit_loss\n",
    "    elif int(day_to_day_profit_loss) > int(greatest_profit):\n",
    "        greatest_profit = int(day_to_day_profit_loss)\n",
    "    elif int(day_to_day_profit_loss) < int(greatest_loss):\n",
    "        greatest_loss = int(day_to_day_profit_loss)\n"
   ]
  },
  {
   "cell_type": "code",
   "execution_count": 20,
   "id": "dddf1c10-10d6-4fbb-b8b2-f1c13a390af6",
   "metadata": {},
   "outputs": [
    {
     "name": "stdout",
     "output_type": "stream",
     "text": [
      "1170593 -1196225 38382578 85\n"
     ]
    }
   ],
   "source": [
    "print(greatest_profit, greatest_loss, net_profit_loss, (count_months-1))"
   ]
  },
  {
   "cell_type": "code",
   "execution_count": null,
   "id": "c743d4f4-acf7-4f9d-98ef-e7a95359ab20",
   "metadata": {},
   "outputs": [],
   "source": []
  },
  {
   "cell_type": "code",
   "execution_count": null,
   "id": "e5dfb359-8d4d-4245-9b30-d1bc730c064d",
   "metadata": {},
   "outputs": [],
   "source": []
  },
  {
   "cell_type": "code",
   "execution_count": null,
   "id": "3ef4f646-80f4-488d-9a1b-d971aa0945a0",
   "metadata": {},
   "outputs": [],
   "source": []
  },
  {
   "cell_type": "code",
   "execution_count": null,
   "id": "03df3d20-6cdd-4274-861c-708f0f4e51ec",
   "metadata": {},
   "outputs": [],
   "source": []
  },
  {
   "cell_type": "code",
   "execution_count": null,
   "id": "7c54fc62-199f-477f-8b5d-b29b17c54b92",
   "metadata": {},
   "outputs": [],
   "source": []
  },
  {
   "cell_type": "code",
   "execution_count": null,
   "id": "240d3dae-6771-465b-b243-b24e5aedabc3",
   "metadata": {},
   "outputs": [],
   "source": []
  },
  {
   "cell_type": "code",
   "execution_count": null,
   "id": "05fa5fef-e268-45a7-81aa-c00dcdf3c96d",
   "metadata": {},
   "outputs": [],
   "source": []
  },
  {
   "cell_type": "code",
   "execution_count": null,
   "id": "7e8feaba-c845-4540-a3b0-ea706c775990",
   "metadata": {},
   "outputs": [],
   "source": []
  },
  {
   "cell_type": "code",
   "execution_count": null,
   "id": "89baab6a-d416-4940-bbca-a243bec23e5a",
   "metadata": {},
   "outputs": [],
   "source": []
  },
  {
   "cell_type": "code",
   "execution_count": null,
   "id": "d19702bd-f7c6-4e18-85fa-cb00c097e628",
   "metadata": {},
   "outputs": [],
   "source": []
  },
  {
   "cell_type": "code",
   "execution_count": null,
   "id": "297d7db9-03f5-4e32-a952-33d8f9a2af47",
   "metadata": {},
   "outputs": [],
   "source": []
  },
  {
   "cell_type": "code",
   "execution_count": 74,
   "id": "2c7c80fb-d6fa-4455-82a0-6bc7622edb0b",
   "metadata": {},
   "outputs": [
    {
     "name": "stdout",
     "output_type": "stream",
     "text": [
      "Greatest Increase in Profits: Jan-2010 ($867884)\n"
     ]
    }
   ],
   "source": [
    "print(f\"Greatest Increase in Profits: {full_list[0]} (${full_list[1]})\") # This format is 100% correct, but wrong date and profit/loss."
   ]
  },
  {
   "cell_type": "code",
   "execution_count": null,
   "id": "6815b37e-bf66-4084-9f64-5127daa9433a",
   "metadata": {},
   "outputs": [],
   "source": []
  },
  {
   "cell_type": "code",
   "execution_count": null,
   "id": "cfff8a80-4d4e-45f8-8028-d96de4bce0b9",
   "metadata": {},
   "outputs": [],
   "source": []
  },
  {
   "cell_type": "code",
   "execution_count": null,
   "id": "f6b140c2-3663-4fa8-aa13-f0f55a654f11",
   "metadata": {},
   "outputs": [],
   "source": []
  },
  {
   "cell_type": "code",
   "execution_count": null,
   "id": "aab9bcc7-739b-4219-9c76-c6e75c1ea068",
   "metadata": {},
   "outputs": [],
   "source": []
  },
  {
   "cell_type": "code",
   "execution_count": null,
   "id": "93571bb2-96bc-4956-b1d6-c321014cacb4",
   "metadata": {},
   "outputs": [],
   "source": []
  },
  {
   "cell_type": "code",
   "execution_count": null,
   "id": "796e7c49-dacb-4998-9523-71627733ffdf",
   "metadata": {},
   "outputs": [],
   "source": []
  }
 ],
 "metadata": {
  "kernelspec": {
   "display_name": "Python 3",
   "language": "python",
   "name": "python3"
  },
  "language_info": {
   "codemirror_mode": {
    "name": "ipython",
    "version": 3
   },
   "file_extension": ".py",
   "mimetype": "text/x-python",
   "name": "python",
   "nbconvert_exporter": "python",
   "pygments_lexer": "ipython3",
   "version": "3.8.5"
  }
 },
 "nbformat": 4,
 "nbformat_minor": 5
}
